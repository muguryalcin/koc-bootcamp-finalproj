{
  "nbformat": 4,
  "nbformat_minor": 0,
  "metadata": {
    "colab": {
      "provenance": [],
      "collapsed_sections": []
    },
    "kernelspec": {
      "name": "python3",
      "display_name": "Python 3"
    },
    "language_info": {
      "name": "python"
    },
    "accelerator": "GPU"
  },
  "cells": [
    {
      "cell_type": "code",
      "execution_count": null,
      "metadata": {
        "id": "7444xRwNkOR9"
      },
      "outputs": [],
      "source": [
        "# Importing libraries\n",
        "import cv2 as cv\n",
        "import pandas as pd\n",
        "import numpy as np\n",
        "import os\n",
        "import shutil\n",
        "\n",
        "# Accessing to the data through Google Drive in colab \n",
        "spectrogram_path = \"drive/MyDrive/spectrograms/\"\n",
        "processed_path = \"drive/MyDrive/spectrograms_processed\""
      ]
    },
    {
      "cell_type": "code",
      "source": [
        "# Spectrogram Image Processing\n",
        "def spectrogram_process(path):\n",
        "  '''\n",
        "  This function gets the image through the given path variable,\n",
        "  turns the image into grayscale, scales the image down and normalizes.\n",
        "  Returns numpy array.\n",
        "\n",
        "  '''\n",
        "  img = cv.imread(path, cv.IMREAD_UNCHANGED)\n",
        "  grayscaled_img = cv.cvtColor(img,cv.COLOR_BGR2GRAY)\n",
        "\n",
        "  #scale = 0.5 # original size * scale\n",
        "  new_width = 32\n",
        "  new_height = 32\n",
        "\n",
        "  dimensions = (new_width,new_height)\n",
        "  resized = cv.resize(grayscaled_img,dimensions, interpolation = cv.INTER_AREA)\n",
        "\n",
        "  normalizedImg = np.zeros((800, 800))\n",
        "  final_img = cv.normalize(resized,  normalizedImg, 0, 255, cv.NORM_MINMAX)\n",
        "  img_expanded = final_img[:, :, np.newaxis]\n",
        "  return img_expanded"
      ],
      "metadata": {
        "id": "ka3kJKdVlQJR"
      },
      "execution_count": null,
      "outputs": []
    },
    {
      "cell_type": "code",
      "source": [
        "# Getting images from Google Drive, processing them and saving them.\n",
        "# After this process, put images into a folder named \"spectrograms_processed\" MANUALLY!!!.\n",
        "\n",
        "df = pd.DataFrame(columns=['image_name', 'label'])\n",
        "for fold in range(0,10):\n",
        "  path = spectrogram_path + str(fold)\n",
        "  save_path = processed_path + str(fold)\n",
        "  for f in os.listdir(path):\n",
        "    df = df.append({'image_name': f, 'label': fold}, ignore_index=True)\n",
        "    cv.imwrite(f,spectrogram_process(path + \"/\" + f))"
      ],
      "metadata": {
        "colab": {
          "base_uri": "https://localhost:8080/"
        },
        "id": "2T8AaBdbxi9B",
        "outputId": "0b6b2a4f-3dd0-4e53-810d-c92303aa793f"
      },
      "execution_count": null,
      "outputs": [
        {
          "output_type": "stream",
          "name": "stdout",
          "text": [
            "(32, 32, 1)\n",
            "a (374, 500, 3)\n"
          ]
        }
      ]
    },
    {
      "cell_type": "code",
      "source": [
        "def get_label(file_name):\n",
        "  '''\n",
        "  This function gets the file name and returns the label of the file from its name.\n",
        "  '''\n",
        "  return file_name.split('.png')[0].split('-')[1]"
      ],
      "metadata": {
        "id": "tnfasSEFjl0c"
      },
      "execution_count": null,
      "outputs": []
    },
    {
      "cell_type": "code",
      "source": [
        "# Creating a dataframe with the processed images and their labels.\n",
        "i = 0\n",
        "for f in os.listdir(\"spectrogram_processed\"):\n",
        "    i +=1\n",
        "    print(\"Label:\",get_label(f))\n",
        "    path = 'spectrogram_processed'\n",
        "    if not os.path.exists(os.path.join(path,get_label(f))):      \n",
        "        os.makedirs(os.path.join(path,get_label(f)))  \n",
        "    shutil.move(os.path.join(path,f),os.path.join(path, get_label(f),get_label(f) + \"_\" + str(i)+\".png\"))"
      ],
      "metadata": {
        "id": "8AgE2nhmm2xo"
      },
      "execution_count": null,
      "outputs": []
    },
    {
      "cell_type": "markdown",
      "source": [],
      "metadata": {
        "id": "L6k9D20PWL0D"
      }
    },
    {
      "cell_type": "code",
      "source": [
        "def train_test_split(root_dir,processed_dir,classes_dir,val_ratio=0.20,test_ratio=0.20):\n",
        "    '''\n",
        "    This function gets the root directory of the images, the processed data directory and the classes.\n",
        "    It splits the spectrograms into train, test and validation sets.\n",
        "    '''\n",
        "\n",
        "    for cls in classes_dir:\n",
        "        print(\"- Class Name \" + cls)\n",
        "        src = processed_dir +\"//\" + cls  # Folder to copy images from\n",
        "\n",
        "        allFileNames = os.listdir(src)\n",
        "        np.random.shuffle(allFileNames)\n",
        "        train_FileNames, val_FileNames, test_FileNames = np.split(np.array(allFileNames),\n",
        "                                                                  [int(len(allFileNames) * (1 - (val_ratio + test_ratio))),\n",
        "                                                                   int(len(allFileNames) * (1 - val_ratio)),\n",
        "                                                                   ])\n",
        "\n",
        "        train_FileNames = [src + '//' + name for name in train_FileNames.tolist()]\n",
        "        val_FileNames = [src + '//' + name for name in val_FileNames.tolist()]\n",
        "        test_FileNames = [src + '//' + name for name in test_FileNames.tolist()]\n",
        "\n",
        "        print('Total images: '+ str(len(allFileNames)))\n",
        "        print('Training: '+ str(len(train_FileNames)))\n",
        "        print('Validation: '+  str(len(val_FileNames)))\n",
        "        print('Testing: '+ str(len(test_FileNames)))\n",
        "\n",
        "        # # Creating Train / Val / Test folders (One time use)\n",
        "        os.makedirs(root_dir + '/train//' + cls)\n",
        "        os.makedirs(root_dir + '/val//' + cls)\n",
        "        os.makedirs(root_dir + '/test//' + cls)\n",
        "\n",
        "        # Copy-pasting images\n",
        "        for name in train_FileNames:\n",
        "            shutil.copy(name, root_dir + '/train//' + cls)\n",
        "        for name in val_FileNames:\n",
        "            shutil.copy(name, root_dir + '/val//' + cls)\n",
        "        for name in test_FileNames:\n",
        "            shutil.copy(name, root_dir + '/test//' + cls)\n",
        "\n",
        "train_test_split(\"spectrogram_data\",\"spectrogram_processed\",[\"0\",\"1\",\"2\",\"3\",\"4\",\"5\",\"6\",\"7\",\"8\",\"9\"],val_ratio=0.0,test_ratio=0.2)"
      ],
      "metadata": {
        "id": "bWKBWu0wjqoj"
      },
      "execution_count": null,
      "outputs": []
    }
  ]
}